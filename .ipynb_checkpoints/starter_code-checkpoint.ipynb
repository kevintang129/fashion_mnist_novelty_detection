{
 "cells": [
  {
   "cell_type": "code",
   "execution_count": null,
   "metadata": {},
   "outputs": [],
   "source": [
    "import torch \n",
    "import torch.nn as nn\n",
    "import torch.nn.functional as F\n",
    "from skimage import transform\n",
    "import torchvision.transforms as transforms\n",
    "import torchvision\n",
    "from torch.autograd import Variable\n",
    "import numpy as np;\n",
    "from torch.utils.data import Dataset, DataLoader\n",
    "import random;\n",
    "import math;\n",
    "import os"
   ]
  },
  {
   "cell_type": "markdown",
   "metadata": {},
   "source": [
    "## Computer Vision Competition"
   ]
  },
  {
   "cell_type": "markdown",
   "metadata": {},
   "source": [
    "This computer vision competition is on something called \"novelty detection\", which is where the goal is being able to learn to detect novelties. In other words, you are given a training set of data, $D_{train}$, and at test time you are given $D_{test}$ which contains both data types from $D_{train}$ as well as novel data that has not been seen before. The task is that, at test time, your model will need to classify an image as a type from $D_{train}$, or something novel. This is a twist on the classification problems we have gone over in this class.\n",
    "\n",
    "For this problem, we will be using the Fashion MNIST dataset as the training data. More information about this dataset can be found here: https://github.com/zalandoresearch/fashion-mnist \n",
    "\n",
    "At test time, we will run the model you have trained on a mystery dataset that is a combination of new Fashion MNIST data and also novel data from a different dataset, and your model will be ranked by how well it is able to distinguish Fashion data from novel data.\n",
    "\n",
    "Your model can output something like a probability (hint: use Sigmoid activation function at the end) or threshold cutoff that allows you to distinguish that an image is novel, and this will be used to perform a binary classification of sorts (either novel, or not novel). **The important thing is that at the very end, your model outputs either a 0 if you think the image is of the same type as the training data, and a 1 if your model thinks it is novel**. The highest accuracy of novelty detection will win this competition. There is a lot of creativity allowed in this project, so we recommend you brainstorm some new ideas or even read up on some novelty detection literature if you are interested. All code submitted must be your own.\n",
    "\n",
    "There is some skeleton code given, but feel free to change as much or as little as you would like, as long as you train using **only** the FashionMNIST dataset. Here are a couple of ideas on how you could go about this to get you started:\n",
    "\n",
    "* Traditional image classification assigns a probability of each label to an image, perhaps do something along the lines of thresholding so that if the highest probability an image has of being a certain label is still below $x$, it is novel\n",
    "* Checking how close/far a test image is to the training images, and thresholding\n",
    "* Looking at how close certain features (for example, 2 layers into a 4 layer CNN) may be to the training data\n",
    "\n",
    "At the end of training, be sure to save your model weights (code has been provided to do so). We will test your model, and the following is what you will need to submit (please include all of the code in the provided turnin.py file):\n",
    "\n",
    "* Code that includes\n",
    "    * Model architecture\n",
    "    * Preprocessing of images (must only use a variation of the given transform function)\n",
    "    * (Optional) postprocessing, instructions on this are in the last cell\n",
    "* Model weights in the form of a 'pth' file\n",
    "* Brief writeup giving a high-level overview of what you implemented"
   ]
  },
  {
   "cell_type": "code",
   "execution_count": null,
   "metadata": {},
   "outputs": [],
   "source": [
    "# feel free to change how much or little preprocessing is done, and at test \n",
    "# time the same preprocessing will be done on the test data\n",
    "transform = transforms.Compose(\n",
    "    [transforms.ToTensor(),\n",
    "     transforms.Normalize((0.5, 0.5, 0.5), (0.5, 0.5, 0.5))])\n",
    "\n",
    "train_dataset = torchvision.datasets.FashionMNIST(root='./data', train=True, transform=transform, target_transform=None, download=True)\n",
    "train_loader = DataLoader(train_dataset, batch_size=64, shuffle=True, num_workers=2)\n",
    "\n"
   ]
  },
  {
   "cell_type": "code",
   "execution_count": null,
   "metadata": {},
   "outputs": [],
   "source": [
    "# Sample model\n",
    "\n",
    "class Net(nn.Module):\n",
    "    def __init__(self):\n",
    "        super(Net, self).__init__()\n",
    "        self.fc = nn.Linear(784, 1)\n",
    "\n",
    "    def forward(self, x):\n",
    "        batch = list(x.size())[0]\n",
    "        x = x.view(batch, -1)\n",
    "        x = F.sigmoid(self.fc(x))\n",
    "        return x\n",
    "\n",
    "\n",
    "net = Net()"
   ]
  },
  {
   "cell_type": "code",
   "execution_count": null,
   "metadata": {},
   "outputs": [],
   "source": [
    "# Sample hyperparameters\n",
    "\n",
    "epochs = 10\n",
    "lr = 0.001"
   ]
  },
  {
   "cell_type": "code",
   "execution_count": null,
   "metadata": {},
   "outputs": [],
   "source": [
    "# Sample loss functions and optimizers\n",
    "\n",
    "criterion = nn.BCELoss() # BCELoss if output is sigmoid is recommended\n",
    "optimizer = torch.optim.SGD(net.parameters(), lr=lr, momentum=0.9)"
   ]
  },
  {
   "cell_type": "code",
   "execution_count": null,
   "metadata": {},
   "outputs": [],
   "source": [
    "# Run training\n",
    "number = len(train_loader)\n",
    "for epoch in range(epochs): \n",
    "\n",
    "    running_loss = 0.0\n",
    "    for i, data in enumerate(train_loader, 0):\n",
    "        # get the inputs\n",
    "        inputs, labels = data\n",
    "\n",
    "        # zero the parameter gradients\n",
    "        optimizer.zero_grad()\n",
    "\n",
    "        # forward + backward + optimize\n",
    "        outputs = net(inputs)\n",
    "        outputs = outputs.squeeze().float()\n",
    "        loss = criterion(outputs, labels.float())\n",
    "        loss.backward()\n",
    "        optimizer.step()\n",
    "\n",
    "        # print statistics\n",
    "        running_loss += loss.item()\n",
    "        if i == (number - 10):\n",
    "            loss = running_loss / (number - 10)\n",
    "            print(\"Epoch: {0}, Loss: {1}\".format(epoch + 1, loss))\n",
    "            running_loss = 0.0\n",
    "\n",
    "print('Finished Training')\n",
    "directory = './saved_model/'\n",
    "if not os.path.exists(directory):\n",
    "    os.makedirs(directory)\n",
    "torch.save(net.state_dict(), './saved_model/model.pth')"
   ]
  },
  {
   "cell_type": "markdown",
   "metadata": {},
   "source": [
    "To make sure your code is written in a way that is compatible with our testing framework, please make sure that the following code below runs. It also has the benefit of showing you how well your model does at classifying images from the training distribution correctly. It does **not** contain any of the novel images your model will eventually be tested on."
   ]
  },
  {
   "cell_type": "code",
   "execution_count": null,
   "metadata": {},
   "outputs": [],
   "source": [
    "# Check that code works\n",
    "\n",
    "net = Net()\n",
    "net.load_state_dict(torch.load('./saved_model/model.pth'))\n",
    "net.eval()\n",
    "\n",
    "test_dataset = torchvision.datasets.FashionMNIST(root='./data', train=False, transform=transform, target_transform=None, download=True)\n",
    "test_loader = DataLoader(test_dataset, batch_size=64, shuffle=True, num_workers=2)\n",
    "\n",
    "corrects = np.zeros(1)\n",
    "totals = np.zeros(1)\n",
    "with torch.no_grad():\n",
    "    for j, loader in enumerate([test_loader]):\n",
    "        for i, data in enumerate(loader, 0):\n",
    "            # get the inputs\n",
    "            inputs, labels = data\n",
    "            labels = torch.zeros_like(labels) + j\n",
    "\n",
    "            outputs = net(inputs)\n",
    "            \n",
    "            # If needed, can add a line here that thresholds, or does something with the\n",
    "            # 'outputs' variable to get it into a compatible format. An example is something\n",
    "            # like _, outputs = torch.max(outputs.data, 1). If this line is needed, please\n",
    "            # this along with your model architecture code labeled as 'postprocess'\n",
    "            outputs = outputs.squeeze().float()\n",
    "\n",
    "            corrects[j] += (outputs == labels.floats()).sum().item()\n",
    "            totals[j] += (labels.size(0))\n",
    "            \n",
    "accs = corrects / totals\n",
    "print(\"Accuracy for test in distribution data: {0}, accuracy for novel data: {1}\".format(accs[0], accs[1]))"
   ]
  },
  {
   "cell_type": "code",
   "execution_count": null,
   "metadata": {},
   "outputs": [],
   "source": []
  },
  {
   "cell_type": "code",
   "execution_count": null,
   "metadata": {},
   "outputs": [],
   "source": []
  }
 ],
 "metadata": {
  "kernelspec": {
   "display_name": "Python 3",
   "language": "python",
   "name": "python3"
  },
  "language_info": {
   "codemirror_mode": {
    "name": "ipython",
    "version": 3
   },
   "file_extension": ".py",
   "mimetype": "text/x-python",
   "name": "python",
   "nbconvert_exporter": "python",
   "pygments_lexer": "ipython3",
   "version": "3.6.5"
  }
 },
 "nbformat": 4,
 "nbformat_minor": 2
}
